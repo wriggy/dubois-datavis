{
 "cells": [
  {
   "cell_type": "markdown",
   "metadata": {},
   "source": [
    "# D4 Recreating  W E B Du Bois Visualisation\n",
    "---\n",
    "### Thirty days of Data Visualisations\n",
    "JWriggy"
   ]
  },
  {
   "cell_type": "markdown",
   "metadata": {},
   "source": [
    "Inspired by a [challenge](https://github.com/ajstarks/dubois-data-portraits/tree/master/challenge) to recreate some of Du Bois's classic visualisations.\n",
    "\n",
    "An area chart - striking blocks of colour."
   ]
  },
  {
   "cell_type": "code",
   "execution_count": 1,
   "metadata": {},
   "outputs": [],
   "source": [
    "import pandas as pd\n",
    "import matplotlib.pyplot as plt\n",
    "\n",
    "plt.style.use('db.mplstyle')"
   ]
  },
  {
   "cell_type": "code",
   "execution_count": 2,
   "metadata": {},
   "outputs": [
    {
     "data": {
      "text/html": [
       "<div>\n",
       "<style scoped>\n",
       "    .dataframe tbody tr th:only-of-type {\n",
       "        vertical-align: middle;\n",
       "    }\n",
       "\n",
       "    .dataframe tbody tr th {\n",
       "        vertical-align: top;\n",
       "    }\n",
       "\n",
       "    .dataframe thead th {\n",
       "        text-align: right;\n",
       "    }\n",
       "</style>\n",
       "<table border=\"1\" class=\"dataframe\">\n",
       "  <thead>\n",
       "    <tr style=\"text-align: right;\">\n",
       "      <th></th>\n",
       "      <th>Slave</th>\n",
       "      <th>Free</th>\n",
       "    </tr>\n",
       "    <tr>\n",
       "      <th>Year</th>\n",
       "      <th></th>\n",
       "      <th></th>\n",
       "    </tr>\n",
       "  </thead>\n",
       "  <tbody>\n",
       "    <tr>\n",
       "      <th>1790</th>\n",
       "      <td>92.0</td>\n",
       "      <td>8.0</td>\n",
       "    </tr>\n",
       "    <tr>\n",
       "      <th>1800</th>\n",
       "      <td>88.0</td>\n",
       "      <td>11.0</td>\n",
       "    </tr>\n",
       "  </tbody>\n",
       "</table>\n",
       "</div>"
      ],
      "text/plain": [
       "      Slave  Free\n",
       "Year             \n",
       "1790   92.0   8.0\n",
       "1800   88.0  11.0"
      ]
     },
     "execution_count": 2,
     "metadata": {},
     "output_type": "execute_result"
    }
   ],
   "source": [
    "# The Data\n",
    "df = pd.read_csv('data/Dubois4.csv', index_col='Year')\n",
    "df.head(2)"
   ]
  },
  {
   "cell_type": "code",
   "execution_count": 3,
   "metadata": {},
   "outputs": [],
   "source": [
    "# text\n",
    "title = 'PROPORTION OF FREEMEN AND SLAVES AMONGST AMERICAN NEGROES'\n",
    "\n",
    "# data\n",
    "y = df['Slave']\n",
    "x = df.index.values\n",
    "ylim = [0,100]\n",
    "xlim = [1790, 1870]\n",
    "\n",
    "# style\n",
    "colors = ['#000000','#66BB66'] \n",
    "h2 = {'fontsize': 18, 'ha':'center', 'va':'center', 'family': 'monospace'}\n",
    "font = {'family': 'monospace', 'size':12}"
   ]
  },
  {
   "cell_type": "code",
   "execution_count": 4,
   "metadata": {},
   "outputs": [
    {
     "data": {
      "image/png": "[encoded data removed]",
      "text/plain": [
       "<Figure size 504x576 with 1 Axes>"
      ]
     },
     "metadata": {
      "needs_background": "light"
     },
     "output_type": "display_data"
    }
   ],
   "source": [
    "fig,ax = plt.subplots(figsize=(7,8))\n",
    "ax.set_frame_on(False)\n",
    "ax.set_ylim(ylim)\n",
    "ax.set_xlim(xlim)\n",
    "ax.tick_params(labelleft=False,labelbottom=False, labeltop=True )\n",
    "\n",
    "# plot \n",
    "ax.fill_between(x, y, 0, facecolor=colors[0], interpolate=True)\n",
    "ax.fill_between(x, 100, y, facecolor=colors[1], interpolate=True)\n",
    "    \n",
    "# annotate\n",
    "ax.text(1830,55,'SLAVES', fontdict=h2, color='w')\n",
    "ax.text(1830,96,'FREE', fontdict=h2, fontsize=14, color='k')\n",
    "for yr in x[:-1]:\n",
    "    ax.text(yr, 102-df.at[yr,'Free'], str(int(df.at[yr,'Free']))+'%', \n",
    "            color='k', ha='center')\n",
    "ax.text(x[-1],92, str(int(df.at[x[-1],'Free']))+'%',color='k', ha='center')\n",
    "\n",
    "fig.suptitle(title, fontsize=10, ha='center')\n",
    "\n",
    "plt.savefig(\"vis/D4_duBois4.png\")\n",
    "plt.show()"
   ]
  }
 ],
 "metadata": {
  "kernelspec": {
   "display_name": "Python 3",
   "language": "python",
   "name": "python3"
  },
  "language_info": {
   "codemirror_mode": {
    "name": "ipython",
    "version": 3
   },
   "file_extension": ".py",
   "mimetype": "text/x-python",
   "name": "python",
   "nbconvert_exporter": "python",
   "pygments_lexer": "ipython3",
   "version": "3.8.8"
  }
 },
 "nbformat": 4,
 "nbformat_minor": 4
}
